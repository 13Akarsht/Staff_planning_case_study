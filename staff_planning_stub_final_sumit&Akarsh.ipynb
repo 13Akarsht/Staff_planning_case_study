{
 "cells": [
  {
   "cell_type": "markdown",
   "metadata": {},
   "source": [
    "# Problem statement"
   ]
  },
  {
   "cell_type": "markdown",
   "metadata": {},
   "source": [
    "The insurance approval process, i.e., underwriting is one of the important and time-consuming tasks in an insurance application processing. When you submit your insurance application, the underwriter of the company evaluates it based on the details that you provide using a rule-based or an ML model and decides whether or not to approve your application. You can refer to this link for a better understanding of the underwriting process though it is not pertinent to the case study.\n",
    "\n",
    " \n",
    "\n",
    "An insurance company InsurePlus wants you to help them with finding the optimal number of staff that they need for their insurance application approval process for the calendar year 2021.  In the industry, the number of staffs is considered as a continuous variable. This is also called a Full-Time Equivalent (FTE) of the staff. For example, if a full-time employee (FTE =1) works for 50 hours a week, 10 hours corresponds to 0.2 FTEs. If the pay for 50 hours a week is $5000, then 0.2 FTE who may be a part-time employee will be paid $1000 (5000*0.2). You can read about the concept of a full-time equivalent here. In this case study, you have been provided with the information that follows.\n",
    "\n",
    " \n",
    "\n",
    "Note: Go through each and every point carefully to not miss out on any information.\n",
    "\n",
    " \n",
    "\n",
    "Problem statement & background\n",
    "The company operates in three states: A, B and C. The state-wise demand for insurance for the year is shown in the table provided below:\n",
    "                   \n",
    "\n",
    " \n",
    "\n",
    "The company can either handle an application with the staff that they hire or outsource it to a vendor. Assume that there is no capacity limitation to outsourcing.\n",
    "If they hire staff, he/she can handle 40 insurance applications per month when he/she works 100% of the workdays. However, there are days that he/she will be unavailable to process applications due to training, off days, etc. \n",
    "A staff member’s availability (in percentage) to work on processing the insurance applications for each month is shown in the table given below. As mentioned before, with 100% availability, each member can handle 40 applications.\n",
    "          \n",
    "        \n",
    "A special note of practical relevance: In the industry, staff availability is predicted using a time-motion study. But in this case, you have been given fixed numbers for each month in the table above. You can read more about the time-motion study here if you are curious but please note that it is not required to solve the case study.\n",
    "\n",
    " \n",
    "\n",
    "States A and B have a regulatory restriction that the outsourced insurance applications cannot be more than 30% and 40% of the total number of applications for each month, respectively. \n",
    "The table given below shows the cost of the staff vs external resources:\n",
    "                                             \n",
    "\n",
    " \n",
    "\n",
    "The objective is to optimise the total cost for the application approval process by distributing the right number of applications between the FTEs and the vendors while meeting the monthly demand for each state at the same time."
   ]
  },
  {
   "cell_type": "code",
   "execution_count": 29,
   "metadata": {},
   "outputs": [],
   "source": [
    "# Importing Libraries \n",
    "\n",
    "import pandas as pd\n",
    "import numpy as np\n",
    "import math\n",
    "from pyomo.environ import *"
   ]
  },
  {
   "cell_type": "code",
   "execution_count": 30,
   "metadata": {},
   "outputs": [],
   "source": [
    "from __future__ import division\n",
    "from pyomo.opt import SolverFactory"
   ]
  },
  {
   "cell_type": "code",
   "execution_count": 31,
   "metadata": {},
   "outputs": [
    {
     "name": "stdout",
     "output_type": "stream",
     "text": [
      "Collecting package metadata (current_repodata.json): ...working... done\n",
      "Note: you may need to restart the kernel to use updated packages.\n",
      "\n",
      "Solving environment: ...working... done\n",
      "\n",
      "# All requested packages already installed.\n",
      "\n"
     ]
    }
   ],
   "source": [
    "conda install -c conda-forge glpk"
   ]
  },
  {
   "cell_type": "code",
   "execution_count": 32,
   "metadata": {},
   "outputs": [],
   "source": [
    "# Reading the data from Excel workbook\n",
    "\n",
    "InputData = \"Staffing+Data.xlsx\"\n",
    "StaffAv = pd.read_excel(InputData, sheet_name=\"StaffAvailability\")\n",
    "Cost = pd.read_excel(InputData, sheet_name=\"Cost\")\n",
    "transCost = pd.read_excel(InputData, sheet_name=\"ServiceRate\")\n",
    "MgDemandDist = pd.read_excel(InputData, sheet_name=\"DemandData\")"
   ]
  },
  {
   "cell_type": "code",
   "execution_count": 33,
   "metadata": {},
   "outputs": [
    {
     "data": {
      "text/html": [
       "<div>\n",
       "<style scoped>\n",
       "    .dataframe tbody tr th:only-of-type {\n",
       "        vertical-align: middle;\n",
       "    }\n",
       "\n",
       "    .dataframe tbody tr th {\n",
       "        vertical-align: top;\n",
       "    }\n",
       "\n",
       "    .dataframe thead th {\n",
       "        text-align: right;\n",
       "    }\n",
       "</style>\n",
       "<table border=\"1\" class=\"dataframe\">\n",
       "  <thead>\n",
       "    <tr style=\"text-align: right;\">\n",
       "      <th></th>\n",
       "      <th>State</th>\n",
       "      <th>Month</th>\n",
       "      <th>LB</th>\n",
       "      <th>UB</th>\n",
       "      <th>StaffAvPer</th>\n",
       "    </tr>\n",
       "  </thead>\n",
       "  <tbody>\n",
       "    <tr>\n",
       "      <th>0</th>\n",
       "      <td>A</td>\n",
       "      <td>Jan</td>\n",
       "      <td>0.70</td>\n",
       "      <td>0.90</td>\n",
       "      <td>0.81</td>\n",
       "    </tr>\n",
       "    <tr>\n",
       "      <th>1</th>\n",
       "      <td>A</td>\n",
       "      <td>Feb</td>\n",
       "      <td>0.65</td>\n",
       "      <td>0.85</td>\n",
       "      <td>0.76</td>\n",
       "    </tr>\n",
       "    <tr>\n",
       "      <th>2</th>\n",
       "      <td>A</td>\n",
       "      <td>Mar</td>\n",
       "      <td>0.70</td>\n",
       "      <td>0.80</td>\n",
       "      <td>0.75</td>\n",
       "    </tr>\n",
       "    <tr>\n",
       "      <th>3</th>\n",
       "      <td>A</td>\n",
       "      <td>Apr</td>\n",
       "      <td>0.75</td>\n",
       "      <td>0.85</td>\n",
       "      <td>0.80</td>\n",
       "    </tr>\n",
       "    <tr>\n",
       "      <th>4</th>\n",
       "      <td>A</td>\n",
       "      <td>May</td>\n",
       "      <td>0.70</td>\n",
       "      <td>0.85</td>\n",
       "      <td>0.78</td>\n",
       "    </tr>\n",
       "  </tbody>\n",
       "</table>\n",
       "</div>"
      ],
      "text/plain": [
       "  State Month    LB    UB  StaffAvPer\n",
       "0     A   Jan  0.70  0.90        0.81\n",
       "1     A   Feb  0.65  0.85        0.76\n",
       "2     A   Mar  0.70  0.80        0.75\n",
       "3     A   Apr  0.75  0.85        0.80\n",
       "4     A   May  0.70  0.85        0.78"
      ]
     },
     "execution_count": 33,
     "metadata": {},
     "output_type": "execute_result"
    }
   ],
   "source": [
    "StaffAv.head()"
   ]
  },
  {
   "cell_type": "code",
   "execution_count": 34,
   "metadata": {},
   "outputs": [
    {
     "data": {
      "text/html": [
       "<div>\n",
       "<style scoped>\n",
       "    .dataframe tbody tr th:only-of-type {\n",
       "        vertical-align: middle;\n",
       "    }\n",
       "\n",
       "    .dataframe tbody tr th {\n",
       "        vertical-align: top;\n",
       "    }\n",
       "\n",
       "    .dataframe thead th {\n",
       "        text-align: right;\n",
       "    }\n",
       "</style>\n",
       "<table border=\"1\" class=\"dataframe\">\n",
       "  <thead>\n",
       "    <tr style=\"text-align: right;\">\n",
       "      <th></th>\n",
       "      <th>State</th>\n",
       "      <th>Month</th>\n",
       "      <th>AnnualSalary</th>\n",
       "      <th>MonthlySalary</th>\n",
       "      <th>UnitOutSourceCost</th>\n",
       "    </tr>\n",
       "  </thead>\n",
       "  <tbody>\n",
       "    <tr>\n",
       "      <th>0</th>\n",
       "      <td>A</td>\n",
       "      <td>Jan</td>\n",
       "      <td>60000</td>\n",
       "      <td>5000.0</td>\n",
       "      <td>180</td>\n",
       "    </tr>\n",
       "    <tr>\n",
       "      <th>1</th>\n",
       "      <td>A</td>\n",
       "      <td>Feb</td>\n",
       "      <td>60000</td>\n",
       "      <td>5000.0</td>\n",
       "      <td>180</td>\n",
       "    </tr>\n",
       "    <tr>\n",
       "      <th>2</th>\n",
       "      <td>A</td>\n",
       "      <td>Mar</td>\n",
       "      <td>60000</td>\n",
       "      <td>5000.0</td>\n",
       "      <td>180</td>\n",
       "    </tr>\n",
       "    <tr>\n",
       "      <th>3</th>\n",
       "      <td>A</td>\n",
       "      <td>Apr</td>\n",
       "      <td>60000</td>\n",
       "      <td>5000.0</td>\n",
       "      <td>180</td>\n",
       "    </tr>\n",
       "    <tr>\n",
       "      <th>4</th>\n",
       "      <td>A</td>\n",
       "      <td>May</td>\n",
       "      <td>60000</td>\n",
       "      <td>5000.0</td>\n",
       "      <td>180</td>\n",
       "    </tr>\n",
       "  </tbody>\n",
       "</table>\n",
       "</div>"
      ],
      "text/plain": [
       "  State Month  AnnualSalary  MonthlySalary  UnitOutSourceCost\n",
       "0     A   Jan         60000         5000.0                180\n",
       "1     A   Feb         60000         5000.0                180\n",
       "2     A   Mar         60000         5000.0                180\n",
       "3     A   Apr         60000         5000.0                180\n",
       "4     A   May         60000         5000.0                180"
      ]
     },
     "execution_count": 34,
     "metadata": {},
     "output_type": "execute_result"
    }
   ],
   "source": [
    "Cost.head()"
   ]
  },
  {
   "cell_type": "code",
   "execution_count": 35,
   "metadata": {},
   "outputs": [
    {
     "data": {
      "text/html": [
       "<div>\n",
       "<style scoped>\n",
       "    .dataframe tbody tr th:only-of-type {\n",
       "        vertical-align: middle;\n",
       "    }\n",
       "\n",
       "    .dataframe tbody tr th {\n",
       "        vertical-align: top;\n",
       "    }\n",
       "\n",
       "    .dataframe thead th {\n",
       "        text-align: right;\n",
       "    }\n",
       "</style>\n",
       "<table border=\"1\" class=\"dataframe\">\n",
       "  <thead>\n",
       "    <tr style=\"text-align: right;\">\n",
       "      <th></th>\n",
       "      <th>MgAppServedPerMonth</th>\n",
       "    </tr>\n",
       "  </thead>\n",
       "  <tbody>\n",
       "    <tr>\n",
       "      <th>0</th>\n",
       "      <td>40</td>\n",
       "    </tr>\n",
       "  </tbody>\n",
       "</table>\n",
       "</div>"
      ],
      "text/plain": [
       "   MgAppServedPerMonth\n",
       "0                   40"
      ]
     },
     "execution_count": 35,
     "metadata": {},
     "output_type": "execute_result"
    }
   ],
   "source": [
    "transCost.head()"
   ]
  },
  {
   "cell_type": "code",
   "execution_count": 36,
   "metadata": {},
   "outputs": [
    {
     "data": {
      "text/html": [
       "<div>\n",
       "<style scoped>\n",
       "    .dataframe tbody tr th:only-of-type {\n",
       "        vertical-align: middle;\n",
       "    }\n",
       "\n",
       "    .dataframe tbody tr th {\n",
       "        vertical-align: top;\n",
       "    }\n",
       "\n",
       "    .dataframe thead th {\n",
       "        text-align: right;\n",
       "    }\n",
       "</style>\n",
       "<table border=\"1\" class=\"dataframe\">\n",
       "  <thead>\n",
       "    <tr style=\"text-align: right;\">\n",
       "      <th></th>\n",
       "      <th>State</th>\n",
       "      <th>Month</th>\n",
       "      <th>Demand</th>\n",
       "    </tr>\n",
       "  </thead>\n",
       "  <tbody>\n",
       "    <tr>\n",
       "      <th>0</th>\n",
       "      <td>A</td>\n",
       "      <td>Jan</td>\n",
       "      <td>5240</td>\n",
       "    </tr>\n",
       "    <tr>\n",
       "      <th>1</th>\n",
       "      <td>A</td>\n",
       "      <td>Feb</td>\n",
       "      <td>4878</td>\n",
       "    </tr>\n",
       "    <tr>\n",
       "      <th>2</th>\n",
       "      <td>A</td>\n",
       "      <td>Mar</td>\n",
       "      <td>5942</td>\n",
       "    </tr>\n",
       "    <tr>\n",
       "      <th>3</th>\n",
       "      <td>A</td>\n",
       "      <td>Apr</td>\n",
       "      <td>2297</td>\n",
       "    </tr>\n",
       "    <tr>\n",
       "      <th>4</th>\n",
       "      <td>A</td>\n",
       "      <td>May</td>\n",
       "      <td>1992</td>\n",
       "    </tr>\n",
       "  </tbody>\n",
       "</table>\n",
       "</div>"
      ],
      "text/plain": [
       "  State Month  Demand\n",
       "0     A   Jan    5240\n",
       "1     A   Feb    4878\n",
       "2     A   Mar    5942\n",
       "3     A   Apr    2297\n",
       "4     A   May    1992"
      ]
     },
     "execution_count": 36,
     "metadata": {},
     "output_type": "execute_result"
    }
   ],
   "source": [
    "MgDemandDist.head()"
   ]
  },
  {
   "cell_type": "markdown",
   "metadata": {},
   "source": [
    "## Data pre-processing "
   ]
  },
  {
   "cell_type": "code",
   "execution_count": 37,
   "metadata": {},
   "outputs": [
    {
     "data": {
      "text/plain": [
       "{('A', 'Jan'): 5240,\n",
       " ('A', 'Feb'): 4878,\n",
       " ('A', 'Mar'): 5942,\n",
       " ('A', 'Apr'): 2297,\n",
       " ('A', 'May'): 1992,\n",
       " ('A', 'Jun'): 2275,\n",
       " ('A', 'Jul'): 5334,\n",
       " ('A', 'Aug'): 3371,\n",
       " ('A', 'Sep'): 3759,\n",
       " ('A', 'Oct'): 3529,\n",
       " ('A', 'Nov'): 4284,\n",
       " ('A', 'Dec'): 5183,\n",
       " ('B', 'Jan'): 4927,\n",
       " ('B', 'Feb'): 2628,\n",
       " ('B', 'Mar'): 2974,\n",
       " ('B', 'Apr'): 2338,\n",
       " ('B', 'May'): 4020,\n",
       " ('B', 'Jun'): 3147,\n",
       " ('B', 'Jul'): 4271,\n",
       " ('B', 'Aug'): 2620,\n",
       " ('B', 'Sep'): 4517,\n",
       " ('B', 'Oct'): 4155,\n",
       " ('B', 'Nov'): 3137,\n",
       " ('B', 'Dec'): 4227,\n",
       " ('C', 'Jan'): 1162,\n",
       " ('C', 'Feb'): 1967,\n",
       " ('C', 'Mar'): 1898,\n",
       " ('C', 'Apr'): 2261,\n",
       " ('C', 'May'): 2030,\n",
       " ('C', 'Jun'): 1642,\n",
       " ('C', 'Jul'): 2489,\n",
       " ('C', 'Aug'): 2496,\n",
       " ('C', 'Sep'): 922,\n",
       " ('C', 'Oct'): 2421,\n",
       " ('C', 'Nov'): 963,\n",
       " ('C', 'Dec'): 1998}"
      ]
     },
     "execution_count": 37,
     "metadata": {},
     "output_type": "execute_result"
    }
   ],
   "source": [
    "# Create the required Python data structures for indexes and parameters\n",
    "\n",
    "# Demand Data\n",
    "Demand = MgDemandDist.set_index(['State','Month'])['Demand'].to_dict()\n",
    "Demand"
   ]
  },
  {
   "cell_type": "code",
   "execution_count": 38,
   "metadata": {},
   "outputs": [
    {
     "data": {
      "text/html": [
       "<div>\n",
       "<style scoped>\n",
       "    .dataframe tbody tr th:only-of-type {\n",
       "        vertical-align: middle;\n",
       "    }\n",
       "\n",
       "    .dataframe tbody tr th {\n",
       "        vertical-align: top;\n",
       "    }\n",
       "\n",
       "    .dataframe thead th {\n",
       "        text-align: right;\n",
       "    }\n",
       "</style>\n",
       "<table border=\"1\" class=\"dataframe\">\n",
       "  <thead>\n",
       "    <tr style=\"text-align: right;\">\n",
       "      <th></th>\n",
       "      <th>State</th>\n",
       "      <th>Month</th>\n",
       "      <th>AnnualSalary</th>\n",
       "      <th>MonthlySalary</th>\n",
       "      <th>UnitOutSourceCost</th>\n",
       "    </tr>\n",
       "  </thead>\n",
       "  <tbody>\n",
       "    <tr>\n",
       "      <th>0</th>\n",
       "      <td>A</td>\n",
       "      <td>Jan</td>\n",
       "      <td>60000</td>\n",
       "      <td>5000.0</td>\n",
       "      <td>180</td>\n",
       "    </tr>\n",
       "    <tr>\n",
       "      <th>1</th>\n",
       "      <td>A</td>\n",
       "      <td>Feb</td>\n",
       "      <td>60000</td>\n",
       "      <td>5000.0</td>\n",
       "      <td>180</td>\n",
       "    </tr>\n",
       "    <tr>\n",
       "      <th>2</th>\n",
       "      <td>A</td>\n",
       "      <td>Mar</td>\n",
       "      <td>60000</td>\n",
       "      <td>5000.0</td>\n",
       "      <td>180</td>\n",
       "    </tr>\n",
       "    <tr>\n",
       "      <th>3</th>\n",
       "      <td>A</td>\n",
       "      <td>Apr</td>\n",
       "      <td>60000</td>\n",
       "      <td>5000.0</td>\n",
       "      <td>180</td>\n",
       "    </tr>\n",
       "    <tr>\n",
       "      <th>4</th>\n",
       "      <td>A</td>\n",
       "      <td>May</td>\n",
       "      <td>60000</td>\n",
       "      <td>5000.0</td>\n",
       "      <td>180</td>\n",
       "    </tr>\n",
       "  </tbody>\n",
       "</table>\n",
       "</div>"
      ],
      "text/plain": [
       "  State Month  AnnualSalary  MonthlySalary  UnitOutSourceCost\n",
       "0     A   Jan         60000         5000.0                180\n",
       "1     A   Feb         60000         5000.0                180\n",
       "2     A   Mar         60000         5000.0                180\n",
       "3     A   Apr         60000         5000.0                180\n",
       "4     A   May         60000         5000.0                180"
      ]
     },
     "execution_count": 38,
     "metadata": {},
     "output_type": "execute_result"
    }
   ],
   "source": [
    "Cost.head()"
   ]
  },
  {
   "cell_type": "code",
   "execution_count": 39,
   "metadata": {},
   "outputs": [],
   "source": [
    "# FTE Salary from the data\n",
    "\n",
    "FTE_Salary = Cost.set_index(['State','Month'])['MonthlySalary'].to_dict()\n",
    "\n",
    "# Unit Outsurcing Cost\n",
    "UnitOutSourceCost = Cost.set_index(['State','Month'])['UnitOutSourceCost'].to_dict()"
   ]
  },
  {
   "cell_type": "code",
   "execution_count": 40,
   "metadata": {},
   "outputs": [
    {
     "data": {
      "text/plain": [
       "{('A', 'Jan'): 5000.0,\n",
       " ('A', 'Feb'): 5000.0,\n",
       " ('A', 'Mar'): 5000.0,\n",
       " ('A', 'Apr'): 5000.0,\n",
       " ('A', 'May'): 5000.0,\n",
       " ('A', 'Jun'): 5000.0,\n",
       " ('A', 'Jul'): 5000.0,\n",
       " ('A', 'Aug'): 5000.0,\n",
       " ('A', 'Sep'): 5000.0,\n",
       " ('A', 'Oct'): 5000.0,\n",
       " ('A', 'Nov'): 5000.0,\n",
       " ('A', 'Dec'): 5000.0,\n",
       " ('B', 'Jan'): 4583.333333333333,\n",
       " ('B', 'Feb'): 4583.333333333333,\n",
       " ('B', 'Mar'): 4583.333333333333,\n",
       " ('B', 'Apr'): 4583.333333333333,\n",
       " ('B', 'May'): 4583.333333333333,\n",
       " ('B', 'Jun'): 4583.333333333333,\n",
       " ('B', 'Jul'): 4583.333333333333,\n",
       " ('B', 'Aug'): 4583.333333333333,\n",
       " ('B', 'Sep'): 4583.333333333333,\n",
       " ('B', 'Oct'): 4583.333333333333,\n",
       " ('B', 'Nov'): 4583.333333333333,\n",
       " ('B', 'Dec'): 4583.333333333333,\n",
       " ('C', 'Jan'): 4416.666666666667,\n",
       " ('C', 'Feb'): 4416.666666666667,\n",
       " ('C', 'Mar'): 4416.666666666667,\n",
       " ('C', 'Apr'): 4416.666666666667,\n",
       " ('C', 'May'): 4416.666666666667,\n",
       " ('C', 'Jun'): 4416.666666666667,\n",
       " ('C', 'Jul'): 4416.666666666667,\n",
       " ('C', 'Aug'): 4416.666666666667,\n",
       " ('C', 'Sep'): 4416.666666666667,\n",
       " ('C', 'Oct'): 4416.666666666667,\n",
       " ('C', 'Nov'): 4416.666666666667,\n",
       " ('C', 'Dec'): 4416.666666666667}"
      ]
     },
     "execution_count": 40,
     "metadata": {},
     "output_type": "execute_result"
    }
   ],
   "source": [
    "FTE_Salary"
   ]
  },
  {
   "cell_type": "code",
   "execution_count": 41,
   "metadata": {},
   "outputs": [
    {
     "data": {
      "text/plain": [
       "{('A', 'Jan'): 180,\n",
       " ('A', 'Feb'): 180,\n",
       " ('A', 'Mar'): 180,\n",
       " ('A', 'Apr'): 180,\n",
       " ('A', 'May'): 180,\n",
       " ('A', 'Jun'): 180,\n",
       " ('A', 'Jul'): 180,\n",
       " ('A', 'Aug'): 180,\n",
       " ('A', 'Sep'): 180,\n",
       " ('A', 'Oct'): 180,\n",
       " ('A', 'Nov'): 180,\n",
       " ('A', 'Dec'): 180,\n",
       " ('B', 'Jan'): 150,\n",
       " ('B', 'Feb'): 150,\n",
       " ('B', 'Mar'): 150,\n",
       " ('B', 'Apr'): 150,\n",
       " ('B', 'May'): 150,\n",
       " ('B', 'Jun'): 150,\n",
       " ('B', 'Jul'): 150,\n",
       " ('B', 'Aug'): 150,\n",
       " ('B', 'Sep'): 150,\n",
       " ('B', 'Oct'): 150,\n",
       " ('B', 'Nov'): 150,\n",
       " ('B', 'Dec'): 150,\n",
       " ('C', 'Jan'): 160,\n",
       " ('C', 'Feb'): 160,\n",
       " ('C', 'Mar'): 160,\n",
       " ('C', 'Apr'): 160,\n",
       " ('C', 'May'): 160,\n",
       " ('C', 'Jun'): 160,\n",
       " ('C', 'Jul'): 160,\n",
       " ('C', 'Aug'): 160,\n",
       " ('C', 'Sep'): 160,\n",
       " ('C', 'Oct'): 160,\n",
       " ('C', 'Nov'): 160,\n",
       " ('C', 'Dec'): 160}"
      ]
     },
     "execution_count": 41,
     "metadata": {},
     "output_type": "execute_result"
    }
   ],
   "source": [
    "UnitOutSourceCost"
   ]
  },
  {
   "cell_type": "code",
   "execution_count": 42,
   "metadata": {},
   "outputs": [
    {
     "data": {
      "text/plain": [
       "40"
      ]
     },
     "execution_count": 42,
     "metadata": {},
     "output_type": "execute_result"
    }
   ],
   "source": [
    "# Number of Applications when Employee working Full Time\n",
    "FTE_AppServeRate = transCost.iloc[0,0]\n",
    "FTE_AppServeRate"
   ]
  },
  {
   "cell_type": "code",
   "execution_count": 43,
   "metadata": {},
   "outputs": [
    {
     "data": {
      "text/html": [
       "<div>\n",
       "<style scoped>\n",
       "    .dataframe tbody tr th:only-of-type {\n",
       "        vertical-align: middle;\n",
       "    }\n",
       "\n",
       "    .dataframe tbody tr th {\n",
       "        vertical-align: top;\n",
       "    }\n",
       "\n",
       "    .dataframe thead th {\n",
       "        text-align: right;\n",
       "    }\n",
       "</style>\n",
       "<table border=\"1\" class=\"dataframe\">\n",
       "  <thead>\n",
       "    <tr style=\"text-align: right;\">\n",
       "      <th></th>\n",
       "      <th>State</th>\n",
       "      <th>Month</th>\n",
       "      <th>LB</th>\n",
       "      <th>UB</th>\n",
       "      <th>StaffAvPer</th>\n",
       "    </tr>\n",
       "  </thead>\n",
       "  <tbody>\n",
       "    <tr>\n",
       "      <th>0</th>\n",
       "      <td>A</td>\n",
       "      <td>Jan</td>\n",
       "      <td>0.70</td>\n",
       "      <td>0.90</td>\n",
       "      <td>0.81</td>\n",
       "    </tr>\n",
       "    <tr>\n",
       "      <th>1</th>\n",
       "      <td>A</td>\n",
       "      <td>Feb</td>\n",
       "      <td>0.65</td>\n",
       "      <td>0.85</td>\n",
       "      <td>0.76</td>\n",
       "    </tr>\n",
       "    <tr>\n",
       "      <th>2</th>\n",
       "      <td>A</td>\n",
       "      <td>Mar</td>\n",
       "      <td>0.70</td>\n",
       "      <td>0.80</td>\n",
       "      <td>0.75</td>\n",
       "    </tr>\n",
       "    <tr>\n",
       "      <th>3</th>\n",
       "      <td>A</td>\n",
       "      <td>Apr</td>\n",
       "      <td>0.75</td>\n",
       "      <td>0.85</td>\n",
       "      <td>0.80</td>\n",
       "    </tr>\n",
       "    <tr>\n",
       "      <th>4</th>\n",
       "      <td>A</td>\n",
       "      <td>May</td>\n",
       "      <td>0.70</td>\n",
       "      <td>0.85</td>\n",
       "      <td>0.78</td>\n",
       "    </tr>\n",
       "  </tbody>\n",
       "</table>\n",
       "</div>"
      ],
      "text/plain": [
       "  State Month    LB    UB  StaffAvPer\n",
       "0     A   Jan  0.70  0.90        0.81\n",
       "1     A   Feb  0.65  0.85        0.76\n",
       "2     A   Mar  0.70  0.80        0.75\n",
       "3     A   Apr  0.75  0.85        0.80\n",
       "4     A   May  0.70  0.85        0.78"
      ]
     },
     "execution_count": 43,
     "metadata": {},
     "output_type": "execute_result"
    }
   ],
   "source": [
    "StaffAv.head()"
   ]
  },
  {
   "cell_type": "code",
   "execution_count": 44,
   "metadata": {},
   "outputs": [],
   "source": [
    "# Staff Availability for serving the Insurance Applications\n",
    "# Worst and Best => StaffAv_LB and StaffAv_UB\n",
    "StaffAv_LB = StaffAv.set_index(['State','Month'])['LB'].to_dict()\n",
    "StaffAv_UB = StaffAv.set_index(['State','Month'])['UB'].to_dict()\n",
    "StaffAvPer = StaffAv.set_index(['State','Month'])['StaffAvPer'].to_dict()"
   ]
  },
  {
   "cell_type": "code",
   "execution_count": 45,
   "metadata": {},
   "outputs": [
    {
     "data": {
      "text/plain": [
       "{('A', 'Jan'): 0.7,\n",
       " ('A', 'Feb'): 0.65,\n",
       " ('A', 'Mar'): 0.7,\n",
       " ('A', 'Apr'): 0.75,\n",
       " ('A', 'May'): 0.7,\n",
       " ('A', 'Jun'): 0.65,\n",
       " ('A', 'Jul'): 0.6,\n",
       " ('A', 'Aug'): 0.65,\n",
       " ('A', 'Sep'): 0.7,\n",
       " ('A', 'Oct'): 0.65,\n",
       " ('A', 'Nov'): 0.6,\n",
       " ('A', 'Dec'): 0.6,\n",
       " ('B', 'Jan'): 0.7,\n",
       " ('B', 'Feb'): 0.65,\n",
       " ('B', 'Mar'): 0.7,\n",
       " ('B', 'Apr'): 0.75,\n",
       " ('B', 'May'): 0.7,\n",
       " ('B', 'Jun'): 0.65,\n",
       " ('B', 'Jul'): 0.6,\n",
       " ('B', 'Aug'): 0.65,\n",
       " ('B', 'Sep'): 0.7,\n",
       " ('B', 'Oct'): 0.65,\n",
       " ('B', 'Nov'): 0.6,\n",
       " ('B', 'Dec'): 0.6,\n",
       " ('C', 'Jan'): 0.7,\n",
       " ('C', 'Feb'): 0.65,\n",
       " ('C', 'Mar'): 0.7,\n",
       " ('C', 'Apr'): 0.75,\n",
       " ('C', 'May'): 0.7,\n",
       " ('C', 'Jun'): 0.65,\n",
       " ('C', 'Jul'): 0.6,\n",
       " ('C', 'Aug'): 0.65,\n",
       " ('C', 'Sep'): 0.7,\n",
       " ('C', 'Oct'): 0.65,\n",
       " ('C', 'Nov'): 0.6,\n",
       " ('C', 'Dec'): 0.6}"
      ]
     },
     "execution_count": 45,
     "metadata": {},
     "output_type": "execute_result"
    }
   ],
   "source": [
    "StaffAv_LB"
   ]
  },
  {
   "cell_type": "code",
   "execution_count": 46,
   "metadata": {},
   "outputs": [
    {
     "data": {
      "text/plain": [
       "{('A', 'Jan'): 0.9,\n",
       " ('A', 'Feb'): 0.85,\n",
       " ('A', 'Mar'): 0.8,\n",
       " ('A', 'Apr'): 0.85,\n",
       " ('A', 'May'): 0.85,\n",
       " ('A', 'Jun'): 0.8,\n",
       " ('A', 'Jul'): 0.75,\n",
       " ('A', 'Aug'): 0.85,\n",
       " ('A', 'Sep'): 0.9,\n",
       " ('A', 'Oct'): 0.8,\n",
       " ('A', 'Nov'): 0.75,\n",
       " ('A', 'Dec'): 0.7,\n",
       " ('B', 'Jan'): 0.9,\n",
       " ('B', 'Feb'): 0.85,\n",
       " ('B', 'Mar'): 0.8,\n",
       " ('B', 'Apr'): 0.85,\n",
       " ('B', 'May'): 0.85,\n",
       " ('B', 'Jun'): 0.8,\n",
       " ('B', 'Jul'): 0.75,\n",
       " ('B', 'Aug'): 0.85,\n",
       " ('B', 'Sep'): 0.9,\n",
       " ('B', 'Oct'): 0.8,\n",
       " ('B', 'Nov'): 0.75,\n",
       " ('B', 'Dec'): 0.7,\n",
       " ('C', 'Jan'): 0.9,\n",
       " ('C', 'Feb'): 0.85,\n",
       " ('C', 'Mar'): 0.8,\n",
       " ('C', 'Apr'): 0.85,\n",
       " ('C', 'May'): 0.85,\n",
       " ('C', 'Jun'): 0.8,\n",
       " ('C', 'Jul'): 0.75,\n",
       " ('C', 'Aug'): 0.85,\n",
       " ('C', 'Sep'): 0.9,\n",
       " ('C', 'Oct'): 0.8,\n",
       " ('C', 'Nov'): 0.75,\n",
       " ('C', 'Dec'): 0.7}"
      ]
     },
     "execution_count": 46,
     "metadata": {},
     "output_type": "execute_result"
    }
   ],
   "source": [
    "StaffAv_UB"
   ]
  },
  {
   "cell_type": "code",
   "execution_count": 47,
   "metadata": {},
   "outputs": [
    {
     "data": {
      "text/plain": [
       "{('A', 'Jan'): 0.81,\n",
       " ('A', 'Feb'): 0.76,\n",
       " ('A', 'Mar'): 0.75,\n",
       " ('A', 'Apr'): 0.8,\n",
       " ('A', 'May'): 0.78,\n",
       " ('A', 'Jun'): 0.73,\n",
       " ('A', 'Jul'): 0.68,\n",
       " ('A', 'Aug'): 0.76,\n",
       " ('A', 'Sep'): 0.81,\n",
       " ('A', 'Oct'): 0.73,\n",
       " ('A', 'Nov'): 0.68,\n",
       " ('A', 'Dec'): 0.65,\n",
       " ('B', 'Jan'): 0.81,\n",
       " ('B', 'Feb'): 0.76,\n",
       " ('B', 'Mar'): 0.75,\n",
       " ('B', 'Apr'): 0.8,\n",
       " ('B', 'May'): 0.78,\n",
       " ('B', 'Jun'): 0.73,\n",
       " ('B', 'Jul'): 0.68,\n",
       " ('B', 'Aug'): 0.76,\n",
       " ('B', 'Sep'): 0.81,\n",
       " ('B', 'Oct'): 0.73,\n",
       " ('B', 'Nov'): 0.68,\n",
       " ('B', 'Dec'): 0.65,\n",
       " ('C', 'Jan'): 0.81,\n",
       " ('C', 'Feb'): 0.76,\n",
       " ('C', 'Mar'): 0.75,\n",
       " ('C', 'Apr'): 0.8,\n",
       " ('C', 'May'): 0.78,\n",
       " ('C', 'Jun'): 0.73,\n",
       " ('C', 'Jul'): 0.68,\n",
       " ('C', 'Aug'): 0.76,\n",
       " ('C', 'Sep'): 0.81,\n",
       " ('C', 'Oct'): 0.73,\n",
       " ('C', 'Nov'): 0.68,\n",
       " ('C', 'Dec'): 0.65}"
      ]
     },
     "execution_count": 47,
     "metadata": {},
     "output_type": "execute_result"
    }
   ],
   "source": [
    "StaffAvPer"
   ]
  },
  {
   "cell_type": "code",
   "execution_count": 48,
   "metadata": {},
   "outputs": [
    {
     "data": {
      "text/plain": [
       "array(['A', 'B', 'C'], dtype=object)"
      ]
     },
     "execution_count": 48,
     "metadata": {},
     "output_type": "execute_result"
    }
   ],
   "source": [
    "Cost['State'].unique()"
   ]
  },
  {
   "cell_type": "code",
   "execution_count": 49,
   "metadata": {},
   "outputs": [
    {
     "data": {
      "text/plain": [
       "array(['Jan', 'Feb', 'Mar', 'Apr', 'May', 'Jun', 'Jul', 'Aug', 'Sep',\n",
       "       'Oct', 'Nov', 'Dec'], dtype=object)"
      ]
     },
     "execution_count": 49,
     "metadata": {},
     "output_type": "execute_result"
    }
   ],
   "source": [
    "Cost['Month'].unique()"
   ]
  },
  {
   "cell_type": "code",
   "execution_count": 50,
   "metadata": {},
   "outputs": [],
   "source": [
    "# Index\n",
    "\n",
    "BankLoc = Cost['State'].unique()\n",
    "\n",
    "Month = Cost['Month'].unique()"
   ]
  },
  {
   "cell_type": "code",
   "execution_count": 51,
   "metadata": {},
   "outputs": [
    {
     "data": {
      "text/plain": [
       "['A', 'B', 'C']"
      ]
     },
     "execution_count": 51,
     "metadata": {},
     "output_type": "execute_result"
    }
   ],
   "source": [
    "BankLoc.tolist()"
   ]
  },
  {
   "cell_type": "markdown",
   "metadata": {},
   "source": [
    "# Question 1\n",
    "\n",
    "The company wants to know the optimised staffing recommendations for the business case described. \n",
    "Write the mathematical model for the deterministic optimisation problem. Define and explain your decision variables, objective function and the constraint. (Hint: Use months of the year as the model timeline).\n",
    "\n"
   ]
  },
  {
   "cell_type": "markdown",
   "metadata": {},
   "source": [
    "##### InsurePlus wants to optimise the cost for staffing plan so we derive following mathematical model\n",
    "\n",
    "#### <b> Data given:<b>\n",
    "1) Locations:  A, B, C<br>\n",
    "2) Demand data provided for statewise and monthwise<br>\n",
    "3) Resources: Full Time Employees, Outsourced Application<br>\n",
    "4) Staff Availablity statewise and monthwise<br>\n",
    "5) Staff Annual Salary statewise astatewise and monthwise<br>\n",
    "6) Outsource Cost per application statewise and monthwise<br>\n",
    "7) Outsourcing restriction at state A & B @ 30% & 40%  respectively  \n",
    "\n",
    "\n",
    "### Mathematical Model:\n",
    "\n",
    "#### <b>Index:<b> \n",
    "$i = State$<br>\n",
    "$j = Month$\n",
    "\n",
    "#### <b>Parameters:<b> \n",
    "Demand = $Demand(i,j)$<br> \n",
    "Staff Availability Percentage = $StaffAv(i,j)$ <br>\n",
    "FTESalary = $FTESalary(i,j)$<br>\n",
    "Unit Outsource Cost = $UnitCost(i,j)$ <br>\n",
    "FTEAppServeRate = $(No. of Appl / Month)$ \n",
    "            \n",
    "#### <b>Decision Variables:<b>\n",
    "$FTE Equivallent at any location, month (Continuous Var) = X(i,j) $<br>\n",
    "$OutSource App Qty in a month (Integer) = Y(i,j) $\n",
    "                    \n",
    "#### <b>Objective Function:<b>\n",
    "$Minimize Cost = Annual Total Cost of FTE + Annual Total Cost of Outsourced Application$ <br>\n",
    "    \n",
    "$\\sum_{i }\\sum_{j }FTESalary(i,j)*X(i,j) + \\sum_{i}\\sum_{j}UnitCost(i,j)*Y(i,j) \\ >= C_{min}$<br>\n",
    "\n"
   ]
  },
  {
   "cell_type": "markdown",
   "metadata": {},
   "source": [
    "**Note:** You can write the mathematical formulation directly in your report."
   ]
  },
  {
   "cell_type": "markdown",
   "metadata": {},
   "source": [
    "# Question 2\n",
    "\n",
    "Code the problem is Python and use any optimization package to solve it. Add comments to your code to explain each step. "
   ]
  },
  {
   "cell_type": "markdown",
   "metadata": {},
   "source": [
    "#### Expected output:\n",
    "\n",
    "Create a data frame containing the number of outsourced applications  and the number of FTEs for each state-month combination. You can choose to have extra columns like staff availability, demand etc. in your dataframe apart from the ones mentioned earlier. "
   ]
  },
  {
   "cell_type": "code",
   "execution_count": 56,
   "metadata": {},
   "outputs": [],
   "source": [
    "# Creating a model instance\n",
    "# model object\n",
    "\n",
    "model = ConcreteModel()"
   ]
  },
  {
   "cell_type": "code",
   "execution_count": 57,
   "metadata": {},
   "outputs": [],
   "source": [
    "# Define Pyomo sets and Parameters\n",
    "\n",
    "# Next task is to define the Sets\n",
    "# i Insurance Company location\n",
    "# j Months\n",
    "\n",
    "model.i = Set(initialize = BankLoc.tolist(), doc='State')\n",
    "model.j = Set(initialize = Month.tolist(), doc='Month')\n",
    "\n",
    "# Parameters -> Demand, FTE salaries, Outsourcing cost, Average Staff Availability\n",
    "\n",
    "model.d = Param(model.i, model.j, initialize=Demand, doc='Demand')\n",
    "model.s = Param(model.i, model.j, initialize=FTE_Salary, doc='FTE_Salary')\n",
    "model.oc = Param(model.i, model.j, initialize=UnitOutSourceCost, doc='UnitSourceCost')\n",
    "model.sa = Param(model.i, model.j, initialize=StaffAvPer, doc='StaffAvPercent')\n",
    "\n",
    "# Scalar Application Serve Rate when working 100%\n",
    "\n",
    "model.r = Param(initialize=FTE_AppServeRate, doc='FTE App Serve Rate')\n",
    "\n",
    "# Parameter for no of Applications that can be processed for the given staff availability\n",
    "\n",
    "def c_FTEAPP(model, i, j):\n",
    "    return model.r * model.sa[i,j]\n",
    "\n",
    "model.FTEAPPNO = Param(model.i, model.j, initialize=c_FTEAPP, doc='NO OF FTE APP')\n",
    "\n",
    "# Regulatory Parameters with Regulatory Constraint\n",
    "# A -> 30%\n",
    "def Reg_A(model, i, j):\n",
    "    return 0.30 * model.d[i,j]\n",
    "\n",
    "model.Reg_A = Param(model.i, model.j, initialize=Reg_A, doc='RegRest_A')\n",
    "\n",
    "# for B\n",
    "# B -> 40%\n",
    "def Reg_B(model, i, j):\n",
    "    return 0.40 * model.d[i,j]\n",
    "\n",
    "model.Reg_B = Param(model.i, model.j, initialize=Reg_B, doc='RegRest_B')"
   ]
  },
  {
   "cell_type": "code",
   "execution_count": 58,
   "metadata": {},
   "outputs": [],
   "source": [
    "# Decision variables\n",
    "\n",
    "model.x = Var(model.i, model.j, domain=NonNegativeReals, doc='No of FTE')\n",
    "\n",
    "model.y = Var(model.i, model.j, domain=NonNegativeIntegers, doc='No of Outsourced App')"
   ]
  },
  {
   "cell_type": "code",
   "execution_count": 59,
   "metadata": {},
   "outputs": [],
   "source": [
    "# Constraints\n",
    "\n",
    "# Demand Constraints\n",
    "\n",
    "model.demand_constraint = ConstraintList()\n",
    "for i in model.i:\n",
    "    for j in model.j:\n",
    "        model.demand_constraint.add(expr= model.x[i,j]*model.FTEAPPNO[i,j] + model.y[i,j] == model.d[i,j])\n",
    "\n",
    "# Regulatory Constraint\n",
    "\n",
    "model.regulatoryCons = ConstraintList()\n",
    "for i in model.i:\n",
    "    for j in model.j:\n",
    "        if i=='A':\n",
    "            model.regulatoryCons.add(expr= model.y['A',j] <= model.Reg_A['A',j])\n",
    "        elif i=='B':\n",
    "            model.regulatoryCons.add(expr= model.y['B',j] <= model.Reg_B['B',j])    "
   ]
  },
  {
   "cell_type": "code",
   "execution_count": 60,
   "metadata": {},
   "outputs": [],
   "source": [
    "# Objective Function\n",
    "\n",
    "def objective_rule(model):\n",
    "    return sum(model.s[i,j]*model.x[i,j] for i in model.i for j in model.j) +\\\n",
    "           sum(model.oc[i,j]*model.y[i,j] for i in model.i for j in model.j)\n",
    "\n",
    "model.objective = Objective(rule=objective_rule, sense=minimize, doc='Define objective function')"
   ]
  },
  {
   "cell_type": "code",
   "execution_count": 61,
   "metadata": {},
   "outputs": [
    {
     "name": "stdout",
     "output_type": "stream",
     "text": [
      "# ==========================================================\n",
      "# = Solver Results                                         =\n",
      "# ==========================================================\n",
      "# ----------------------------------------------------------\n",
      "#   Problem Information\n",
      "# ----------------------------------------------------------\n",
      "Problem: \n",
      "- Name: unknown\n",
      "  Lower bound: 17962336.4487699\n",
      "  Upper bound: 17962336.4487699\n",
      "  Number of objectives: 1\n",
      "  Number of constraints: 61\n",
      "  Number of variables: 73\n",
      "  Number of nonzeros: 97\n",
      "  Sense: minimize\n",
      "# ----------------------------------------------------------\n",
      "#   Solver Information\n",
      "# ----------------------------------------------------------\n",
      "Solver: \n",
      "- Status: ok\n",
      "  Termination condition: optimal\n",
      "  Statistics: \n",
      "    Branch and bound: \n",
      "      Number of bounded subproblems: 0\n",
      "      Number of created subproblems: 0\n",
      "  Error rc: 0\n",
      "  Time: 0.20194578170776367\n",
      "# ----------------------------------------------------------\n",
      "#   Solution Information\n",
      "# ----------------------------------------------------------\n",
      "Solution: \n",
      "- number of solutions: 0\n",
      "  number of solutions displayed: 0\n"
     ]
    }
   ],
   "source": [
    "# Invoking the solver\n",
    "\n",
    "result_cost = SolverFactory('glpk').solve(model)\n",
    "result_cost.write()"
   ]
  },
  {
   "cell_type": "code",
   "execution_count": 62,
   "metadata": {},
   "outputs": [
    {
     "data": {
      "text/plain": [
       "17962336.448769882"
      ]
     },
     "execution_count": 62,
     "metadata": {},
     "output_type": "execute_result"
    }
   ],
   "source": [
    "# Print the value of the objective function\n",
    "\n",
    "TotalCost = model.objective.expr()\n",
    "TotalCost"
   ]
  },
  {
   "cell_type": "markdown",
   "metadata": {},
   "source": [
    "**`Checkpoint 1:`** Seems like the company has to spend around 17.9 m$ in total for the application approval process."
   ]
  },
  {
   "cell_type": "code",
   "execution_count": 63,
   "metadata": {},
   "outputs": [
    {
     "data": {
      "text/html": [
       "<div>\n",
       "<style scoped>\n",
       "    .dataframe tbody tr th:only-of-type {\n",
       "        vertical-align: middle;\n",
       "    }\n",
       "\n",
       "    .dataframe tbody tr th {\n",
       "        vertical-align: top;\n",
       "    }\n",
       "\n",
       "    .dataframe thead th {\n",
       "        text-align: right;\n",
       "    }\n",
       "</style>\n",
       "<table border=\"1\" class=\"dataframe\">\n",
       "  <thead>\n",
       "    <tr style=\"text-align: right;\">\n",
       "      <th></th>\n",
       "      <th>State</th>\n",
       "      <th>Month</th>\n",
       "      <th>FTE</th>\n",
       "      <th>App_Outsourced</th>\n",
       "    </tr>\n",
       "  </thead>\n",
       "  <tbody>\n",
       "    <tr>\n",
       "      <th>0</th>\n",
       "      <td>A</td>\n",
       "      <td>Jan</td>\n",
       "      <td>161.728395</td>\n",
       "      <td>0.0</td>\n",
       "    </tr>\n",
       "    <tr>\n",
       "      <th>1</th>\n",
       "      <td>A</td>\n",
       "      <td>Feb</td>\n",
       "      <td>160.460526</td>\n",
       "      <td>0.0</td>\n",
       "    </tr>\n",
       "    <tr>\n",
       "      <th>2</th>\n",
       "      <td>A</td>\n",
       "      <td>Mar</td>\n",
       "      <td>198.066667</td>\n",
       "      <td>0.0</td>\n",
       "    </tr>\n",
       "    <tr>\n",
       "      <th>3</th>\n",
       "      <td>A</td>\n",
       "      <td>Apr</td>\n",
       "      <td>71.781250</td>\n",
       "      <td>0.0</td>\n",
       "    </tr>\n",
       "    <tr>\n",
       "      <th>4</th>\n",
       "      <td>A</td>\n",
       "      <td>May</td>\n",
       "      <td>63.846154</td>\n",
       "      <td>0.0</td>\n",
       "    </tr>\n",
       "  </tbody>\n",
       "</table>\n",
       "</div>"
      ],
      "text/plain": [
       "  State Month         FTE  App_Outsourced\n",
       "0     A   Jan  161.728395             0.0\n",
       "1     A   Feb  160.460526             0.0\n",
       "2     A   Mar  198.066667             0.0\n",
       "3     A   Apr   71.781250             0.0\n",
       "4     A   May   63.846154             0.0"
      ]
     },
     "execution_count": 63,
     "metadata": {},
     "output_type": "execute_result"
    }
   ],
   "source": [
    "# Creating dataframe for the results\n",
    "\n",
    "FTE_Staff = []\n",
    "for i in BankLoc:\n",
    "    for j in Month:\n",
    "        v = model.x[i,j].value\n",
    "        w = model.y[i,j].value\n",
    "        FTE_Staff.append([i,j,v,w]) # list of list\n",
    "        \n",
    "FTE_Staff = pd.DataFrame(FTE_Staff, columns=['State','Month','FTE','App_Outsourced'])\n",
    "FTE_Staff.head()"
   ]
  },
  {
   "cell_type": "code",
   "execution_count": 64,
   "metadata": {},
   "outputs": [],
   "source": [
    "# Writing the results in to an Excel sheet\n",
    "\n"
   ]
  },
  {
   "cell_type": "markdown",
   "metadata": {},
   "source": [
    "# Question 3\n",
    "\n",
    "#### Worst-case and best-case analysis based on the staffs' availability.\n",
    "\n",
    "Assuming that the distribution is the same across all the states,\n",
    "\n",
    "#### 3.1 Worst case analysis \n",
    "\n",
    "- 3.1.1 What is the optimal number of staff members for the worst case? \n",
    "\n",
    "- 3.1.2 What is the percentage of outsourcing for the worst case? \n",
    "\n",
    "- 3.1.3 What is the average cost per application for the worst case?\n",
    "\n",
    "\n",
    "#### 3.2 Best case analysis \n",
    "\n",
    "- 3.2.1 What is the optimal number of staff members for the best case? \n",
    "\n",
    "- 3.2.2 What is the percentage of outsourcing for the best case? \n",
    "\n",
    "- 3.2.3 What is the average cost per application for the best case?\n"
   ]
  },
  {
   "cell_type": "markdown",
   "metadata": {},
   "source": [
    "#### Expected output:\n",
    "\n",
    "For each of the subtasks (3.1 and 3.2) create a data frame containing the number of outsourced applications and the number of FTEs for each state-month combination. You can choose to have extra columns like staff availability, demand etc. in your dataframe apart from the ones mentioned earlier. Also, print the overall average percentage of outsourced applications and the overall average cost per application. "
   ]
  },
  {
   "cell_type": "markdown",
   "metadata": {},
   "source": [
    "### 3.1 Worst Case Analysis "
   ]
  },
  {
   "cell_type": "markdown",
   "metadata": {},
   "source": [
    "#### 3.1.1 Optimal number of staff members"
   ]
  },
  {
   "cell_type": "code",
   "execution_count": 120,
   "metadata": {},
   "outputs": [],
   "source": [
    "# Creating a model instance\n",
    "\n",
    "# model object\n",
    "\n",
    "modelwc = ConcreteModel()"
   ]
  },
  {
   "cell_type": "code",
   "execution_count": 121,
   "metadata": {},
   "outputs": [],
   "source": [
    "# Define Pyomo sets and Parameters\n",
    "\n",
    "# Next task is to define the Sets\n",
    "# i Insurance Company location\n",
    "# j Months\n",
    "\n",
    "modelwc.i = Set(initialize = BankLoc.tolist(), doc='State')\n",
    "modelwc.j = Set(initialize = Month.tolist(), doc='Month')\n",
    "\n",
    "# Parameters -> Demand, FTE salaries, Outsourcing cost, Average Staff Availability\n",
    "\n",
    "modelwc.d = Param(modelwc.i, modelwc.j, initialize=Demand, doc='Demand')\n",
    "modelwc.s = Param(modelwc.i, modelwc.j, initialize=FTE_Salary, doc='FTE_Salary')\n",
    "modelwc.oc = Param(modelwc.i, modelwc.j, initialize=UnitOutSourceCost, doc='UnitSourceCost')\n",
    "modelwc.sa = Param(modelwc.i, modelwc.j, initialize=StaffAv_LB, doc='StaffAvLB')\n",
    "\n",
    "# Scalar Application Serve Rate when working 100%\n",
    "\n",
    "modelwc.r = Param(initialize=FTE_AppServeRate, doc='FTE App Serve Rate')\n",
    "\n",
    "def c_FTEAPP(modelwc, i, j):\n",
    "    return modelwc.r * modelwc.sa[i,j]\n",
    "\n",
    "modelwc.FTEAPPNO = Param(modelwc.i, modelwc.j, initialize=c_FTEAPP, doc='NO OF FTE APP')\n",
    "\n",
    "# Regulatory Parameters with Regulatory Constraint\n",
    "# A -> 30%\n",
    "def Reg_A(modelwc, i, j):\n",
    "    return 0.30 * modelwc.d[i,j]\n",
    "\n",
    "modelwc.Reg_A = Param(modelwc.i, modelwc.j, initialize=Reg_A, doc='RegRest_A')\n",
    "\n",
    "# for B\n",
    "# B -> 40%\n",
    "def Reg_B(modelwc, i, j):\n",
    "    return 0.40 * modelwc.d[i,j]\n",
    "\n",
    "modelwc.Reg_B = Param(modelwc.i, modelwc.j, initialize=Reg_B, doc='RegRest_B')\n"
   ]
  },
  {
   "cell_type": "code",
   "execution_count": 122,
   "metadata": {},
   "outputs": [],
   "source": [
    "# Decision variables\n",
    "\n",
    "modelwc.x = Var(modelwc.i, modelwc.j, domain=NonNegativeReals, doc='No of FTE')\n",
    "\n",
    "modelwc.y = Var(modelwc.i, modelwc.j, domain=NonNegativeIntegers, doc='No of Outsourced App')"
   ]
  },
  {
   "cell_type": "code",
   "execution_count": 123,
   "metadata": {},
   "outputs": [],
   "source": [
    "# Constraints\n",
    "\n",
    "# Demand Constraints\n",
    "\n",
    "modelwc.demand_constraint = ConstraintList()\n",
    "for i in modelwc.i:\n",
    "    for j in modelwc.j:\n",
    "        modelwc.demand_constraint.add(expr= modelwc.x[i,j]*modelwc.FTEAPPNO[i,j] + modelwc.y[i,j] == modelwc.d[i,j])\n",
    "\n",
    "# Regulatory Constraint\n",
    "\n",
    "modelwc.regulatoryCons = ConstraintList()\n",
    "for i in modelwc.i:\n",
    "    for j in modelwc.j:\n",
    "        if i=='A':\n",
    "            modelwc.regulatoryCons.add(expr= modelwc.y['A',j] <= modelwc.Reg_A['A',j])\n",
    "        elif i=='B':\n",
    "            modelwc.regulatoryCons.add(expr= modelwc.y['B',j] <= modelwc.Reg_B['B',j])    "
   ]
  },
  {
   "cell_type": "code",
   "execution_count": 124,
   "metadata": {},
   "outputs": [],
   "source": [
    "# Objective function\n",
    "\n",
    "def objective_rule(modelwc):\n",
    "    return sum(modelwc.s[i,j]*modelwc.x[i,j] for i in modelwc.i for j in modelwc.j) +\\\n",
    "           sum(modelwc.oc[i,j]*modelwc.y[i,j] for i in modelwc.i for j in modelwc.j)\n",
    "\n",
    "modelwc.objective = Objective(rule=objective_rule, sense=minimize, doc='Define objective function')"
   ]
  },
  {
   "cell_type": "code",
   "execution_count": 125,
   "metadata": {},
   "outputs": [
    {
     "name": "stdout",
     "output_type": "stream",
     "text": [
      "# ==========================================================\n",
      "# = Solver Results                                         =\n",
      "# ==========================================================\n",
      "# ----------------------------------------------------------\n",
      "#   Problem Information\n",
      "# ----------------------------------------------------------\n",
      "Problem: \n",
      "- Name: unknown\n",
      "  Lower bound: 19599482.5167888\n",
      "  Upper bound: 19599482.5167888\n",
      "  Number of objectives: 1\n",
      "  Number of constraints: 61\n",
      "  Number of variables: 73\n",
      "  Number of nonzeros: 97\n",
      "  Sense: minimize\n",
      "# ----------------------------------------------------------\n",
      "#   Solver Information\n",
      "# ----------------------------------------------------------\n",
      "Solver: \n",
      "- Status: ok\n",
      "  Termination condition: optimal\n",
      "  Statistics: \n",
      "    Branch and bound: \n",
      "      Number of bounded subproblems: 0\n",
      "      Number of created subproblems: 0\n",
      "  Error rc: 0\n",
      "  Time: 0.12647294998168945\n",
      "# ----------------------------------------------------------\n",
      "#   Solution Information\n",
      "# ----------------------------------------------------------\n",
      "Solution: \n",
      "- number of solutions: 0\n",
      "  number of solutions displayed: 0\n"
     ]
    }
   ],
   "source": [
    "# Invoking the solver\n",
    "result_cost_wc = SolverFactory('glpk').solve(modelwc)\n",
    "result_cost_wc.write()"
   ]
  },
  {
   "cell_type": "code",
   "execution_count": 126,
   "metadata": {},
   "outputs": [
    {
     "data": {
      "text/plain": [
       "19599482.516788766"
      ]
     },
     "execution_count": 126,
     "metadata": {},
     "output_type": "execute_result"
    }
   ],
   "source": [
    "# Print the value of the objective function\n",
    "\n",
    "TotalCostWC = modelwc.objective.expr()\n",
    "TotalCostWC"
   ]
  },
  {
   "cell_type": "markdown",
   "metadata": {},
   "source": [
    "**`Checkpoint 2:`** The company has to spend around 19.6 m$ in total for the application approval process if the staffs are working with the minimum availability."
   ]
  },
  {
   "cell_type": "code",
   "execution_count": 127,
   "metadata": {},
   "outputs": [
    {
     "data": {
      "text/html": [
       "<div>\n",
       "<style scoped>\n",
       "    .dataframe tbody tr th:only-of-type {\n",
       "        vertical-align: middle;\n",
       "    }\n",
       "\n",
       "    .dataframe tbody tr th {\n",
       "        vertical-align: top;\n",
       "    }\n",
       "\n",
       "    .dataframe thead th {\n",
       "        text-align: right;\n",
       "    }\n",
       "</style>\n",
       "<table border=\"1\" class=\"dataframe\">\n",
       "  <thead>\n",
       "    <tr style=\"text-align: right;\">\n",
       "      <th></th>\n",
       "      <th>State</th>\n",
       "      <th>Month</th>\n",
       "      <th>FTE</th>\n",
       "      <th>App_Outsourced</th>\n",
       "    </tr>\n",
       "  </thead>\n",
       "  <tbody>\n",
       "    <tr>\n",
       "      <th>0</th>\n",
       "      <td>A</td>\n",
       "      <td>Jan</td>\n",
       "      <td>187.142857</td>\n",
       "      <td>0.0</td>\n",
       "    </tr>\n",
       "    <tr>\n",
       "      <th>1</th>\n",
       "      <td>A</td>\n",
       "      <td>Feb</td>\n",
       "      <td>131.346154</td>\n",
       "      <td>1463.0</td>\n",
       "    </tr>\n",
       "    <tr>\n",
       "      <th>2</th>\n",
       "      <td>A</td>\n",
       "      <td>Mar</td>\n",
       "      <td>212.214286</td>\n",
       "      <td>0.0</td>\n",
       "    </tr>\n",
       "    <tr>\n",
       "      <th>3</th>\n",
       "      <td>A</td>\n",
       "      <td>Apr</td>\n",
       "      <td>76.566667</td>\n",
       "      <td>0.0</td>\n",
       "    </tr>\n",
       "    <tr>\n",
       "      <th>4</th>\n",
       "      <td>A</td>\n",
       "      <td>May</td>\n",
       "      <td>71.142857</td>\n",
       "      <td>0.0</td>\n",
       "    </tr>\n",
       "  </tbody>\n",
       "</table>\n",
       "</div>"
      ],
      "text/plain": [
       "  State Month         FTE  App_Outsourced\n",
       "0     A   Jan  187.142857             0.0\n",
       "1     A   Feb  131.346154          1463.0\n",
       "2     A   Mar  212.214286             0.0\n",
       "3     A   Apr   76.566667             0.0\n",
       "4     A   May   71.142857             0.0"
      ]
     },
     "execution_count": 127,
     "metadata": {},
     "output_type": "execute_result"
    }
   ],
   "source": [
    "# Creating dataframe for the results\n",
    "\n",
    "FTE_StaffWC = []\n",
    "for i in BankLoc:\n",
    "    for j in Month:\n",
    "        v = modelwc.x[i,j].value\n",
    "        w = modelwc.y[i,j].value\n",
    "        FTE_StaffWC.append([i,j,v,w]) # list of list\n",
    "        \n",
    "FTE_StaffWC = pd.DataFrame(FTE_StaffWC, columns=['State','Month','FTE','App_Outsourced'])\n",
    "FTE_StaffWC.head()"
   ]
  },
  {
   "cell_type": "markdown",
   "metadata": {},
   "source": [
    "#### 3.1.2 Percentage of outsourced applications "
   ]
  },
  {
   "cell_type": "code",
   "execution_count": 128,
   "metadata": {},
   "outputs": [
    {
     "data": {
      "text/plain": [
       "35.14"
      ]
     },
     "execution_count": 128,
     "metadata": {},
     "output_type": "execute_result"
    }
   ],
   "source": [
    "# write your code here\n",
    "\n",
    "TotlAppDemand = MgDemandDist['Demand'].sum() \n",
    "TotlAppDemand\n",
    "\n",
    "PercentageOutsourced = ((FTE_StaffWC['App_Outsourced'].sum() / TotlAppDemand)* 100).round(2)\n",
    "PercentageOutsourced"
   ]
  },
  {
   "cell_type": "markdown",
   "metadata": {},
   "source": [
    "#### 3.1.3 Average cost per application"
   ]
  },
  {
   "cell_type": "code",
   "execution_count": 129,
   "metadata": {},
   "outputs": [
    {
     "name": "stdout",
     "output_type": "stream",
     "text": [
      "230.11\n",
      "173.0\n"
     ]
    }
   ],
   "source": [
    "# write your code here\n",
    "\n",
    "TotalFTEWC = FTE_StaffWC['FTE'].sum()\n",
    "AverageFTEPerMonthWC = (TotalFTEWC/12).round(2)\n",
    "print(AverageFTEPerMonthWC) \n",
    "\n",
    "AverageCostPerApplWC = (TotalCostWC / TotlAppDemand).round(2)\n",
    "print(AverageCostPerApplWC)"
   ]
  },
  {
   "cell_type": "markdown",
   "metadata": {},
   "source": [
    "### 3.2  Best Case Analysis "
   ]
  },
  {
   "cell_type": "markdown",
   "metadata": {},
   "source": [
    "#### 3.2.1 Optimal number of staff members\n"
   ]
  },
  {
   "cell_type": "code",
   "execution_count": 130,
   "metadata": {},
   "outputs": [],
   "source": [
    "# Creating a model instance\n",
    "\n",
    "# model object\n",
    "\n",
    "modelbc = ConcreteModel()"
   ]
  },
  {
   "cell_type": "code",
   "execution_count": 131,
   "metadata": {},
   "outputs": [],
   "source": [
    "# Define Pyomo sets and Parameters\n",
    "\n",
    "# Next task is to define the Sets\n",
    "# i Insurance Company location\n",
    "# j Months\n",
    "\n",
    "modelbc.i = Set(initialize = BankLoc.tolist(), doc='State')\n",
    "modelbc.j = Set(initialize = Month.tolist(), doc='Month')\n",
    "\n",
    "# Parameters -> Demand, FTE salaries, Outsourcing cost, Average Staff Availability\n",
    "\n",
    "modelbc.d = Param(modelbc.i, modelbc.j, initialize=Demand, doc='Demand')\n",
    "modelbc.s = Param(modelbc.i, modelbc.j, initialize=FTE_Salary, doc='FTE_Salary')\n",
    "modelbc.oc = Param(modelbc.i, modelbc.j, initialize=UnitOutSourceCost, doc='UnitSourceCost')\n",
    "modelbc.sa = Param(modelbc.i, modelbc.j, initialize=StaffAv_UB, doc='StaffAvUB')\n",
    "\n",
    "# Scalar Application Serve Rate when working 100%\n",
    "\n",
    "modelbc.r = Param(initialize=FTE_AppServeRate, doc='FTE App Serve Rate')\n",
    "\n",
    "def c_FTEAPP(modelbc, i, j):\n",
    "    return modelbc.r * modelbc.sa[i,j]\n",
    "\n",
    "modelbc.FTEAPPNO = Param(modelbc.i, modelbc.j, initialize=c_FTEAPP, doc='NO OF FTE APP')\n",
    "\n",
    "# Regulatory Parameters with Regulatory Constraint\n",
    "# A -> 30%\n",
    "def Reg_A(modelbc, i, j):\n",
    "    return 0.30 * modelbc.d[i,j]\n",
    "\n",
    "modelbc.Reg_A = Param(modelbc.i, modelbc.j, initialize=Reg_A, doc='RegRest_A')\n",
    "\n",
    "# for B\n",
    "# B -> 40%\n",
    "def Reg_B(modelbc, i, j):\n",
    "    return 0.40 * modelbc.d[i,j]\n",
    "\n",
    "modelbc.Reg_B = Param(modelbc.i, modelbc.j, initialize=Reg_B, doc='RegRest_B')\n"
   ]
  },
  {
   "cell_type": "code",
   "execution_count": 132,
   "metadata": {},
   "outputs": [],
   "source": [
    "# Decision variables\n",
    "\n",
    "modelbc.x = Var(modelbc.i, modelbc.j, domain=NonNegativeReals, doc='No of FTE')\n",
    "\n",
    "modelbc.y = Var(modelbc.i, modelbc.j, domain=NonNegativeIntegers, doc='No of Outsourced App')"
   ]
  },
  {
   "cell_type": "code",
   "execution_count": 133,
   "metadata": {},
   "outputs": [],
   "source": [
    "# Constraints\n",
    "\n",
    "# Demand Constraints\n",
    "\n",
    "modelbc.demand_constraint = ConstraintList()\n",
    "for i in modelbc.i:\n",
    "    for j in modelbc.j:\n",
    "        modelbc.demand_constraint.add(expr= modelbc.x[i,j]*modelbc.FTEAPPNO[i,j] + modelbc.y[i,j] == modelbc.d[i,j])\n",
    "\n",
    "# Regulatory Constraint\n",
    "\n",
    "modelbc.regulatoryCons = ConstraintList()\n",
    "for i in modelbc.i:\n",
    "    for j in modelbc.j:\n",
    "        if i=='A':\n",
    "            modelbc.regulatoryCons.add(expr= modelbc.y['A',j] <= modelbc.Reg_A['A',j])\n",
    "        elif i=='B':\n",
    "            modelbc.regulatoryCons.add(expr= modelbc.y['B',j] <= modelbc.Reg_B['B',j])    "
   ]
  },
  {
   "cell_type": "code",
   "execution_count": 134,
   "metadata": {},
   "outputs": [],
   "source": [
    "# Objective function\n",
    "\n",
    "def objective_rule(modelbc):\n",
    "    return sum(modelbc.s[i,j]*modelbc.x[i,j] for i in modelbc.i for j in modelbc.j) +\\\n",
    "           sum(modelbc.oc[i,j]*modelbc.y[i,j] for i in modelbc.i for j in modelbc.j)\n",
    "\n",
    "modelbc.objective = Objective(rule=objective_rule, sense=minimize, doc='Define objective function')"
   ]
  },
  {
   "cell_type": "code",
   "execution_count": 135,
   "metadata": {},
   "outputs": [
    {
     "name": "stdout",
     "output_type": "stream",
     "text": [
      "# ==========================================================\n",
      "# = Solver Results                                         =\n",
      "# ==========================================================\n",
      "# ----------------------------------------------------------\n",
      "#   Problem Information\n",
      "# ----------------------------------------------------------\n",
      "Problem: \n",
      "- Name: unknown\n",
      "  Lower bound: 16527535.6379357\n",
      "  Upper bound: 16527535.6379357\n",
      "  Number of objectives: 1\n",
      "  Number of constraints: 61\n",
      "  Number of variables: 73\n",
      "  Number of nonzeros: 97\n",
      "  Sense: minimize\n",
      "# ----------------------------------------------------------\n",
      "#   Solver Information\n",
      "# ----------------------------------------------------------\n",
      "Solver: \n",
      "- Status: ok\n",
      "  Termination condition: optimal\n",
      "  Statistics: \n",
      "    Branch and bound: \n",
      "      Number of bounded subproblems: 0\n",
      "      Number of created subproblems: 0\n",
      "  Error rc: 0\n",
      "  Time: 0.4506673812866211\n",
      "# ----------------------------------------------------------\n",
      "#   Solution Information\n",
      "# ----------------------------------------------------------\n",
      "Solution: \n",
      "- number of solutions: 0\n",
      "  number of solutions displayed: 0\n"
     ]
    }
   ],
   "source": [
    "# Invoking the solver\n",
    "result_cost_bc = SolverFactory('glpk').solve(modelbc)\n",
    "result_cost_bc.write()"
   ]
  },
  {
   "cell_type": "code",
   "execution_count": 136,
   "metadata": {},
   "outputs": [
    {
     "data": {
      "text/plain": [
       "16527535.63793573"
      ]
     },
     "execution_count": 136,
     "metadata": {},
     "output_type": "execute_result"
    }
   ],
   "source": [
    "# Print the value of the objective function\n",
    "\n",
    "TotalCostBC = modelbc.objective.expr()\n",
    "TotalCostBC"
   ]
  },
  {
   "cell_type": "markdown",
   "metadata": {},
   "source": [
    "**`Checkpoint 3:`** The company has to spend around 16.5 m$ in total for the application approval process if the staffs are working with the maximum availability."
   ]
  },
  {
   "cell_type": "code",
   "execution_count": 137,
   "metadata": {},
   "outputs": [
    {
     "data": {
      "text/html": [
       "<div>\n",
       "<style scoped>\n",
       "    .dataframe tbody tr th:only-of-type {\n",
       "        vertical-align: middle;\n",
       "    }\n",
       "\n",
       "    .dataframe tbody tr th {\n",
       "        vertical-align: top;\n",
       "    }\n",
       "\n",
       "    .dataframe thead th {\n",
       "        text-align: right;\n",
       "    }\n",
       "</style>\n",
       "<table border=\"1\" class=\"dataframe\">\n",
       "  <thead>\n",
       "    <tr style=\"text-align: right;\">\n",
       "      <th></th>\n",
       "      <th>State</th>\n",
       "      <th>Month</th>\n",
       "      <th>FTE</th>\n",
       "      <th>App_Outsourced</th>\n",
       "    </tr>\n",
       "  </thead>\n",
       "  <tbody>\n",
       "    <tr>\n",
       "      <th>0</th>\n",
       "      <td>A</td>\n",
       "      <td>Jan</td>\n",
       "      <td>145.555556</td>\n",
       "      <td>0.0</td>\n",
       "    </tr>\n",
       "    <tr>\n",
       "      <th>1</th>\n",
       "      <td>A</td>\n",
       "      <td>Feb</td>\n",
       "      <td>143.470588</td>\n",
       "      <td>0.0</td>\n",
       "    </tr>\n",
       "    <tr>\n",
       "      <th>2</th>\n",
       "      <td>A</td>\n",
       "      <td>Mar</td>\n",
       "      <td>185.687500</td>\n",
       "      <td>0.0</td>\n",
       "    </tr>\n",
       "    <tr>\n",
       "      <th>3</th>\n",
       "      <td>A</td>\n",
       "      <td>Apr</td>\n",
       "      <td>67.558824</td>\n",
       "      <td>0.0</td>\n",
       "    </tr>\n",
       "    <tr>\n",
       "      <th>4</th>\n",
       "      <td>A</td>\n",
       "      <td>May</td>\n",
       "      <td>58.588235</td>\n",
       "      <td>0.0</td>\n",
       "    </tr>\n",
       "  </tbody>\n",
       "</table>\n",
       "</div>"
      ],
      "text/plain": [
       "  State Month         FTE  App_Outsourced\n",
       "0     A   Jan  145.555556             0.0\n",
       "1     A   Feb  143.470588             0.0\n",
       "2     A   Mar  185.687500             0.0\n",
       "3     A   Apr   67.558824             0.0\n",
       "4     A   May   58.588235             0.0"
      ]
     },
     "execution_count": 137,
     "metadata": {},
     "output_type": "execute_result"
    }
   ],
   "source": [
    "# Creating dataframe for the results\n",
    "FTE_StaffBC = []\n",
    "for i in BankLoc:\n",
    "    for j in Month:\n",
    "        v = modelbc.x[i,j].value\n",
    "        w = modelbc.y[i,j].value\n",
    "        FTE_StaffBC.append([i,j,v,w]) # list of list\n",
    "        \n",
    "FTE_StaffBC = pd.DataFrame(FTE_StaffBC, columns=['State','Month','FTE','App_Outsourced'])\n",
    "FTE_StaffBC.head()"
   ]
  },
  {
   "cell_type": "markdown",
   "metadata": {},
   "source": [
    "#### 3.2.2 Percentage of outsourced applications"
   ]
  },
  {
   "cell_type": "code",
   "execution_count": 138,
   "metadata": {},
   "outputs": [
    {
     "data": {
      "text/plain": [
       "4.11"
      ]
     },
     "execution_count": 138,
     "metadata": {},
     "output_type": "execute_result"
    }
   ],
   "source": [
    "# write your code here\n",
    "\n",
    "TotlAppDemand = MgDemandDist['Demand'].sum() \n",
    "TotlAppDemand\n",
    "\n",
    "PercentageOutsourcedBC = ((FTE_StaffBC['App_Outsourced'].sum() / TotlAppDemand)* 100).round(2)\n",
    "PercentageOutsourcedBC"
   ]
  },
  {
   "cell_type": "markdown",
   "metadata": {},
   "source": [
    "#### 3.2.3 Average cost per application"
   ]
  },
  {
   "cell_type": "code",
   "execution_count": 139,
   "metadata": {},
   "outputs": [
    {
     "name": "stdout",
     "output_type": "stream",
     "text": [
      "278.6\n",
      "145.88\n"
     ]
    }
   ],
   "source": [
    "# write your code here\n",
    "\n",
    "TotalFTEBC = FTE_StaffBC['FTE'].sum()\n",
    "AverageFTEPerMonthBC = (TotalFTEBC/12).round(2)\n",
    "print(AverageFTEPerMonthBC) \n",
    "\n",
    "AverageCostPerApplBC = (TotalCostBC / TotlAppDemand).round(2)\n",
    "print(AverageCostPerApplBC)"
   ]
  },
  {
   "cell_type": "markdown",
   "metadata": {},
   "source": [
    "# Question 4\n",
    "\n",
    "#### Creating Visualisations"
   ]
  },
  {
   "cell_type": "markdown",
   "metadata": {},
   "source": [
    "Create the following visualisations using your preferred method (i.e. Python, PowerPoint, Power BI, etc.) and add it to your report. \n",
    "\n",
    "Use the solution of Q2 to create a stacked column chart that shows the percentage of applications processed by the staff and by the vendor for each month (%staff processed applications+ %vendor processed applications should add up to 100%). \n",
    "Create a graph to show how the cost per application increases with respect to any change in the parameters in your analysis.\n",
    "Hint: Use the cost per application that you calculate in Questions 2 and 3 (i.e., the best case, and the worst case). "
   ]
  },
  {
   "cell_type": "markdown",
   "metadata": {},
   "source": [
    "**Note:** You can create the charts in Python or some other visualisation tools and make it a part of your final report directly."
   ]
  },
  {
   "cell_type": "code",
   "execution_count": null,
   "metadata": {},
   "outputs": [],
   "source": []
  }
 ],
 "metadata": {
  "kernelspec": {
   "display_name": "Python 3",
   "language": "python",
   "name": "python3"
  },
  "language_info": {
   "codemirror_mode": {
    "name": "ipython",
    "version": 3
   },
   "file_extension": ".py",
   "mimetype": "text/x-python",
   "name": "python",
   "nbconvert_exporter": "python",
   "pygments_lexer": "ipython3",
   "version": "3.8.3"
  }
 },
 "nbformat": 4,
 "nbformat_minor": 2
}
